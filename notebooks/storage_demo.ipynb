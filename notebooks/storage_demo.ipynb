{
 "cells": [
  {
   "cell_type": "code",
   "execution_count": 2,
   "id": "9996ee23-6b5b-484c-9445-ce5b4bd4e3aa",
   "metadata": {},
   "outputs": [
    {
     "data": {
      "text/plain": [
       "(891, ['PassengerId', 'Survived', 'Pclass', 'Name', 'Sex'])"
      ]
     },
     "execution_count": 2,
     "metadata": {},
     "output_type": "execute_result"
    }
   ],
   "source": [
    "import pandas as pd\n",
    "df = pd.read_csv(\"../data/raw/titanic.csv\")   # note the ../\n",
    "df.to_csv(\"../data/processed/titanic_processed.csv\", index=False)\n",
    "df.to_parquet(\"../data/processed/titanic_processed.parquet\")\n",
    "len(df), df.columns[:5].tolist()\n"
   ]
  },
  {
   "cell_type": "code",
   "execution_count": null,
   "id": "b259aa22-49a3-42ee-9162-714aa6d690f1",
   "metadata": {},
   "outputs": [],
   "source": []
  }
 ],
 "metadata": {
  "kernelspec": {
   "display_name": "Python (fe-course)",
   "language": "python",
   "name": "fe-course"
  },
  "language_info": {
   "codemirror_mode": {
    "name": "ipython",
    "version": 3
   },
   "file_extension": ".py",
   "mimetype": "text/x-python",
   "name": "python",
   "nbconvert_exporter": "python",
   "pygments_lexer": "ipython3",
   "version": "3.11.13"
  }
 },
 "nbformat": 4,
 "nbformat_minor": 5
}
