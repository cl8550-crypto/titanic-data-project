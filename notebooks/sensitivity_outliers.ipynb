{
 "cells": [
  {
   "cell_type": "code",
   "execution_count": 3,
   "id": "d63885d4-ae59-4456-ae85-1d62c7f7dfe0",
   "metadata": {},
   "outputs": [
    {
     "data": {
      "text/plain": [
       "Age_outlier\n",
       "False    825\n",
       "True      66\n",
       "Name: count, dtype: int64"
      ]
     },
     "execution_count": 3,
     "metadata": {},
     "output_type": "execute_result"
    }
   ],
   "source": [
    "import sys, os\n",
    "from pathlib import Path\n",
    "\n",
    "# project root = parent of notebooks/\n",
    "ROOT = Path.cwd().parent\n",
    "if str(ROOT) not in sys.path:\n",
    "    sys.path.insert(0, str(ROOT))\n",
    "\n",
    "from src.outliers import iqr_outliers\n",
    "\n",
    "\n",
    "\n",
    "import pandas as pd\n",
    "from pathlib import Path\n",
    "from src.outliers import iqr_outliers\n",
    "\n",
    "ROOT = Path.cwd().parent\n",
    "PROC = ROOT / \"data\" / \"processed\"\n",
    "\n",
    "df = pd.read_csv(PROC / \"titanic_clean.csv\")\n",
    "df = iqr_outliers(df, \"Age\")\n",
    "df[\"Age_outlier\"].value_counts()\n"
   ]
  },
  {
   "cell_type": "code",
   "execution_count": 5,
   "id": "4cf5b6f7-3b0c-42a0-9a1b-f8b2bcdc544d",
   "metadata": {},
   "outputs": [
    {
     "data": {
      "text/plain": [
       "(np.float64(0.3838383838383838), np.float64(0.3806060606060606))"
      ]
     },
     "execution_count": 5,
     "metadata": {},
     "output_type": "execute_result"
    }
   ],
   "source": [
    "# Compare survival rate with vs without outliers\n",
    "with_out = df[\"Survived\"].mean()\n",
    "without_out = df.loc[~df[\"Age_outlier\"], \"Survived\"].mean()\n",
    "with_out, without_out\n"
   ]
  },
  {
   "cell_type": "code",
   "execution_count": null,
   "id": "5ee1a77e-3522-46c7-a9fb-6a91a6142eb1",
   "metadata": {},
   "outputs": [],
   "source": []
  }
 ],
 "metadata": {
  "kernelspec": {
   "display_name": "Python (fe-course)",
   "language": "python",
   "name": "fe-course"
  },
  "language_info": {
   "codemirror_mode": {
    "name": "ipython",
    "version": 3
   },
   "file_extension": ".py",
   "mimetype": "text/x-python",
   "name": "python",
   "nbconvert_exporter": "python",
   "pygments_lexer": "ipython3",
   "version": "3.11.13"
  }
 },
 "nbformat": 4,
 "nbformat_minor": 5
}
