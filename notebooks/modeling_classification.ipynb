{
 "cells": [
  {
   "cell_type": "code",
   "execution_count": 1,
   "id": "9c778dac-c5b4-4152-8e82-c934bc359c00",
   "metadata": {},
   "outputs": [
    {
     "name": "stdout",
     "output_type": "stream",
     "text": [
      "Accuracy: 0.7988826815642458\n",
      "[[90 15]\n",
      " [21 53]]\n",
      "              precision    recall  f1-score   support\n",
      "\n",
      "           0       0.81      0.86      0.83       105\n",
      "           1       0.78      0.72      0.75        74\n",
      "\n",
      "    accuracy                           0.80       179\n",
      "   macro avg       0.80      0.79      0.79       179\n",
      "weighted avg       0.80      0.80      0.80       179\n",
      "\n"
     ]
    }
   ],
   "source": [
    "import pandas as pd\n",
    "from sklearn.model_selection import train_test_split\n",
    "from sklearn.linear_model import LogisticRegression\n",
    "from sklearn.metrics import accuracy_score, confusion_matrix, classification_report\n",
    "from pathlib import Path\n",
    "\n",
    "ROOT = Path.cwd().parent\n",
    "PROC = ROOT / \"data\" / \"processed\"\n",
    "df = pd.read_csv(PROC / \"titanic_features.csv\")\n",
    "\n",
    "# select features\n",
    "features = [\"Pclass\",\"Sex\",\"Age\",\"Fare\",\"FamilySize\",\"IsAlone\"]\n",
    "X = df[features]\n",
    "y = df[\"Survived\"]\n",
    "\n",
    "# split\n",
    "X_train, X_test, y_train, y_test = train_test_split(X, y, test_size=0.2, random_state=42)\n",
    "\n",
    "# fit\n",
    "model = LogisticRegression(max_iter=500)\n",
    "model.fit(X_train, y_train)\n",
    "\n",
    "y_pred = model.predict(X_test)\n",
    "print(\"Accuracy:\", accuracy_score(y_test, y_pred))\n",
    "print(confusion_matrix(y_test, y_pred))\n",
    "print(classification_report(y_test, y_pred))\n"
   ]
  },
  {
   "cell_type": "code",
   "execution_count": 2,
   "id": "7c738ea6-8b03-4710-80d6-4bdcb957d14e",
   "metadata": {},
   "outputs": [
    {
     "data": {
      "image/png": "[encoded data removed]",
      "text/plain": [
       "<Figure size 640x480 with 1 Axes>"
      ]
     },
     "metadata": {},
     "output_type": "display_data"
    },
    {
     "name": "stdout",
     "output_type": "stream",
     "text": [
      "Bootstrap 95% CI: (np.float64(0.7374301675977654), np.float64(0.8547486033519553))\n"
     ]
    }
   ],
   "source": [
    "import seaborn as sns, matplotlib.pyplot as plt\n",
    "import numpy as np\n",
    "\n",
    "# residuals proxy: predicted probs vs actual\n",
    "probs = model.predict_proba(X_test)[:,1]\n",
    "plt.hist(probs[y_test==1], alpha=0.5, label=\"Survived\")\n",
    "plt.hist(probs[y_test==0], alpha=0.5, label=\"Did not survive\")\n",
    "plt.legend(); plt.title(\"Prediction Probabilities\"); plt.show()\n",
    "\n",
    "# bootstrap accuracy CI\n",
    "n_boot = 1000\n",
    "scores = []\n",
    "rng = np.random.default_rng(42)\n",
    "for _ in range(n_boot):\n",
    "    idx = rng.choice(len(y_test), len(y_test), replace=True)\n",
    "    scores.append(accuracy_score(y_test.iloc[idx], y_pred[idx]))\n",
    "print(\"Bootstrap 95% CI:\", (np.percentile(scores,2.5), np.percentile(scores,97.5)))\n"
   ]
  },
  {
   "cell_type": "code",
   "execution_count": 3,
   "id": "466f3f2a-483d-4d37-80d9-6acffca7f288",
   "metadata": {},
   "outputs": [
    {
     "data": {
      "text/plain": [
       "['/Users/liucanxin/fre_project/titanic-data-project/model/logreg.pkl']"
      ]
     },
     "execution_count": 3,
     "metadata": {},
     "output_type": "execute_result"
    }
   ],
   "source": [
    "import joblib, pathlib\n",
    "MODEL_DIR = ROOT / \"model\"\n",
    "MODEL_DIR.mkdir(exist_ok=True)\n",
    "joblib.dump(model, MODEL_DIR / \"logreg.pkl\")\n"
   ]
  },
  {
   "cell_type": "code",
   "execution_count": null,
   "id": "7855e1e3-ebe0-4bac-8312-46ffe19df527",
   "metadata": {},
   "outputs": [],
   "source": []
  }
 ],
 "metadata": {
  "kernelspec": {
   "display_name": "Python (fe-course)",
   "language": "python",
   "name": "fe-course"
  },
  "language_info": {
   "codemirror_mode": {
    "name": "ipython",
    "version": 3
   },
   "file_extension": ".py",
   "mimetype": "text/x-python",
   "name": "python",
   "nbconvert_exporter": "python",
   "pygments_lexer": "ipython3",
   "version": "3.11.13"
  }
 },
 "nbformat": 4,
 "nbformat_minor": 5
}
