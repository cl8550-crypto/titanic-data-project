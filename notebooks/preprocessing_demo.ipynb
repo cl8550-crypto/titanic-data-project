{
 "cells": [
  {
   "cell_type": "code",
   "execution_count": 1,
   "id": "b40e1606-0e2e-4975-94e6-6d6020832261",
   "metadata": {},
   "outputs": [],
   "source": [
    "from pathlib import Path\n",
    "import sys, pandas as pd\n",
    "\n",
    "# project root = parent of notebooks/\n",
    "ROOT = Path.cwd().parent\n",
    "if str(ROOT) not in sys.path:\n",
    "    sys.path.insert(0, str(ROOT))   # <-- makes `src/` importable\n",
    "\n",
    "RAW  = ROOT / \"data\" / \"raw\"\n",
    "PROC = ROOT / \"data\" / \"processed\"\n"
   ]
  },
  {
   "cell_type": "code",
   "execution_count": 2,
   "id": "310b1a12-1215-4efd-829b-b94971935d57",
   "metadata": {},
   "outputs": [],
   "source": [
    "from src.cleaning import preprocess\n"
   ]
  },
  {
   "cell_type": "code",
   "execution_count": 3,
   "id": "b8c42dbd-1ee4-4877-a08e-189a417c4854",
   "metadata": {},
   "outputs": [
    {
     "data": {
      "text/plain": [
       "((891, 12),\n",
       " (891, 12),\n",
       " PassengerId    0\n",
       " Survived       0\n",
       " Pclass         0\n",
       " Name           0\n",
       " Sex            0\n",
       " dtype: int64)"
      ]
     },
     "execution_count": 3,
     "metadata": {},
     "output_type": "execute_result"
    }
   ],
   "source": [
    "raw = pd.read_csv(RAW / \"titanic.csv\")\n",
    "clean = preprocess(raw.copy())\n",
    "raw.shape, clean.shape, clean.isna().sum().head()\n"
   ]
  },
  {
   "cell_type": "code",
   "execution_count": 4,
   "id": "3ddd3180-462e-472c-ab8e-5cb250db21fb",
   "metadata": {},
   "outputs": [
    {
     "data": {
      "text/plain": [
       "891"
      ]
     },
     "execution_count": 4,
     "metadata": {},
     "output_type": "execute_result"
    }
   ],
   "source": [
    "PROC.mkdir(parents=True, exist_ok=True)\n",
    "clean.to_csv(PROC / \"titanic_clean.csv\", index=False)\n",
    "len(clean)\n"
   ]
  },
  {
   "cell_type": "code",
   "execution_count": null,
   "id": "6689c9e3-5944-47b2-8b2a-9a7f0804c409",
   "metadata": {},
   "outputs": [],
   "source": []
  }
 ],
 "metadata": {
  "kernelspec": {
   "display_name": "Python (fe-course)",
   "language": "python",
   "name": "fe-course"
  },
  "language_info": {
   "codemirror_mode": {
    "name": "ipython",
    "version": 3
   },
   "file_extension": ".py",
   "mimetype": "text/x-python",
   "name": "python",
   "nbconvert_exporter": "python",
   "pygments_lexer": "ipython3",
   "version": "3.11.13"
  }
 },
 "nbformat": 4,
 "nbformat_minor": 5
}
